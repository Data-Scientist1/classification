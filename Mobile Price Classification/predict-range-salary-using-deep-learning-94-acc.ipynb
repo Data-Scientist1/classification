{
 "cells": [
  {
   "cell_type": "code",
   "execution_count": 1,
   "id": "8ae974f6",
   "metadata": {
    "_cell_guid": "b1076dfc-b9ad-4769-8c92-a6c4dae69d19",
    "_uuid": "8f2839f25d086af736a60e9eeb907d3b93b6e0e5",
    "execution": {
     "iopub.execute_input": "2022-02-07T12:44:16.251610Z",
     "iopub.status.busy": "2022-02-07T12:44:16.250296Z",
     "iopub.status.idle": "2022-02-07T12:44:24.289719Z",
     "shell.execute_reply": "2022-02-07T12:44:24.290279Z",
     "shell.execute_reply.started": "2022-02-07T12:23:02.471335Z"
    },
    "papermill": {
     "duration": 8.059653,
     "end_time": "2022-02-07T12:44:24.290655",
     "exception": false,
     "start_time": "2022-02-07T12:44:16.231002",
     "status": "completed"
    },
    "tags": []
   },
   "outputs": [],
   "source": [
    "import numpy as np # linear algebra\n",
    "import pandas as pd # data processing, CSV file I/O (e.g. pd.read_csv)\n",
    "import matplotlib.pyplot as plt\n",
    "import seaborn as sns\n",
    "import tensorflow as tf\n",
    "from tensorflow.keras.models import Model\n",
    "from tensorflow.keras.layers import Dense, Input, Dropout\n",
    "from sklearn.model_selection import train_test_split\n",
    "\n",
    "sns.set()"
   ]
  },
  {
   "cell_type": "code",
   "execution_count": 2,
   "id": "20322cfc",
   "metadata": {
    "execution": {
     "iopub.execute_input": "2022-02-07T12:44:24.326305Z",
     "iopub.status.busy": "2022-02-07T12:44:24.325628Z",
     "iopub.status.idle": "2022-02-07T12:44:24.371434Z",
     "shell.execute_reply": "2022-02-07T12:44:24.372034Z",
     "shell.execute_reply.started": "2022-02-07T12:12:48.543393Z"
    },
    "papermill": {
     "duration": 0.064843,
     "end_time": "2022-02-07T12:44:24.372242",
     "exception": false,
     "start_time": "2022-02-07T12:44:24.307399",
     "status": "completed"
    },
    "tags": []
   },
   "outputs": [],
   "source": [
    "df_train = pd.read_csv('train.csv')\n",
    "df_test  = pd.read_csv('test.csv')"
   ]
  },
  {
   "cell_type": "code",
   "execution_count": 3,
   "id": "383d093a",
   "metadata": {
    "execution": {
     "iopub.execute_input": "2022-02-07T12:44:24.405151Z",
     "iopub.status.busy": "2022-02-07T12:44:24.404462Z",
     "iopub.status.idle": "2022-02-07T12:44:24.438355Z",
     "shell.execute_reply": "2022-02-07T12:44:24.437714Z",
     "shell.execute_reply.started": "2022-02-07T12:12:50.886241Z"
    },
    "papermill": {
     "duration": 0.051864,
     "end_time": "2022-02-07T12:44:24.438523",
     "exception": false,
     "start_time": "2022-02-07T12:44:24.386659",
     "status": "completed"
    },
    "tags": []
   },
   "outputs": [
    {
     "data": {
      "text/html": [
       "<div>\n",
       "<style scoped>\n",
       "    .dataframe tbody tr th:only-of-type {\n",
       "        vertical-align: middle;\n",
       "    }\n",
       "\n",
       "    .dataframe tbody tr th {\n",
       "        vertical-align: top;\n",
       "    }\n",
       "\n",
       "    .dataframe thead th {\n",
       "        text-align: right;\n",
       "    }\n",
       "</style>\n",
       "<table border=\"1\" class=\"dataframe\">\n",
       "  <thead>\n",
       "    <tr style=\"text-align: right;\">\n",
       "      <th></th>\n",
       "      <th>battery_power</th>\n",
       "      <th>blue</th>\n",
       "      <th>clock_speed</th>\n",
       "      <th>dual_sim</th>\n",
       "      <th>fc</th>\n",
       "      <th>four_g</th>\n",
       "      <th>int_memory</th>\n",
       "      <th>m_dep</th>\n",
       "      <th>mobile_wt</th>\n",
       "      <th>n_cores</th>\n",
       "      <th>...</th>\n",
       "      <th>px_height</th>\n",
       "      <th>px_width</th>\n",
       "      <th>ram</th>\n",
       "      <th>sc_h</th>\n",
       "      <th>sc_w</th>\n",
       "      <th>talk_time</th>\n",
       "      <th>three_g</th>\n",
       "      <th>touch_screen</th>\n",
       "      <th>wifi</th>\n",
       "      <th>price_range</th>\n",
       "    </tr>\n",
       "  </thead>\n",
       "  <tbody>\n",
       "    <tr>\n",
       "      <th>0</th>\n",
       "      <td>842</td>\n",
       "      <td>0</td>\n",
       "      <td>2.2</td>\n",
       "      <td>0</td>\n",
       "      <td>1</td>\n",
       "      <td>0</td>\n",
       "      <td>7</td>\n",
       "      <td>0.6</td>\n",
       "      <td>188</td>\n",
       "      <td>2</td>\n",
       "      <td>...</td>\n",
       "      <td>20</td>\n",
       "      <td>756</td>\n",
       "      <td>2549</td>\n",
       "      <td>9</td>\n",
       "      <td>7</td>\n",
       "      <td>19</td>\n",
       "      <td>0</td>\n",
       "      <td>0</td>\n",
       "      <td>1</td>\n",
       "      <td>1</td>\n",
       "    </tr>\n",
       "    <tr>\n",
       "      <th>1</th>\n",
       "      <td>1021</td>\n",
       "      <td>1</td>\n",
       "      <td>0.5</td>\n",
       "      <td>1</td>\n",
       "      <td>0</td>\n",
       "      <td>1</td>\n",
       "      <td>53</td>\n",
       "      <td>0.7</td>\n",
       "      <td>136</td>\n",
       "      <td>3</td>\n",
       "      <td>...</td>\n",
       "      <td>905</td>\n",
       "      <td>1988</td>\n",
       "      <td>2631</td>\n",
       "      <td>17</td>\n",
       "      <td>3</td>\n",
       "      <td>7</td>\n",
       "      <td>1</td>\n",
       "      <td>1</td>\n",
       "      <td>0</td>\n",
       "      <td>2</td>\n",
       "    </tr>\n",
       "    <tr>\n",
       "      <th>2</th>\n",
       "      <td>563</td>\n",
       "      <td>1</td>\n",
       "      <td>0.5</td>\n",
       "      <td>1</td>\n",
       "      <td>2</td>\n",
       "      <td>1</td>\n",
       "      <td>41</td>\n",
       "      <td>0.9</td>\n",
       "      <td>145</td>\n",
       "      <td>5</td>\n",
       "      <td>...</td>\n",
       "      <td>1263</td>\n",
       "      <td>1716</td>\n",
       "      <td>2603</td>\n",
       "      <td>11</td>\n",
       "      <td>2</td>\n",
       "      <td>9</td>\n",
       "      <td>1</td>\n",
       "      <td>1</td>\n",
       "      <td>0</td>\n",
       "      <td>2</td>\n",
       "    </tr>\n",
       "    <tr>\n",
       "      <th>3</th>\n",
       "      <td>615</td>\n",
       "      <td>1</td>\n",
       "      <td>2.5</td>\n",
       "      <td>0</td>\n",
       "      <td>0</td>\n",
       "      <td>0</td>\n",
       "      <td>10</td>\n",
       "      <td>0.8</td>\n",
       "      <td>131</td>\n",
       "      <td>6</td>\n",
       "      <td>...</td>\n",
       "      <td>1216</td>\n",
       "      <td>1786</td>\n",
       "      <td>2769</td>\n",
       "      <td>16</td>\n",
       "      <td>8</td>\n",
       "      <td>11</td>\n",
       "      <td>1</td>\n",
       "      <td>0</td>\n",
       "      <td>0</td>\n",
       "      <td>2</td>\n",
       "    </tr>\n",
       "    <tr>\n",
       "      <th>4</th>\n",
       "      <td>1821</td>\n",
       "      <td>1</td>\n",
       "      <td>1.2</td>\n",
       "      <td>0</td>\n",
       "      <td>13</td>\n",
       "      <td>1</td>\n",
       "      <td>44</td>\n",
       "      <td>0.6</td>\n",
       "      <td>141</td>\n",
       "      <td>2</td>\n",
       "      <td>...</td>\n",
       "      <td>1208</td>\n",
       "      <td>1212</td>\n",
       "      <td>1411</td>\n",
       "      <td>8</td>\n",
       "      <td>2</td>\n",
       "      <td>15</td>\n",
       "      <td>1</td>\n",
       "      <td>1</td>\n",
       "      <td>0</td>\n",
       "      <td>1</td>\n",
       "    </tr>\n",
       "  </tbody>\n",
       "</table>\n",
       "<p>5 rows × 21 columns</p>\n",
       "</div>"
      ],
      "text/plain": [
       "   battery_power  blue  clock_speed  dual_sim  fc  four_g  int_memory  m_dep  \\\n",
       "0            842     0          2.2         0   1       0           7    0.6   \n",
       "1           1021     1          0.5         1   0       1          53    0.7   \n",
       "2            563     1          0.5         1   2       1          41    0.9   \n",
       "3            615     1          2.5         0   0       0          10    0.8   \n",
       "4           1821     1          1.2         0  13       1          44    0.6   \n",
       "\n",
       "   mobile_wt  n_cores  ...  px_height  px_width   ram  sc_h  sc_w  talk_time  \\\n",
       "0        188        2  ...         20       756  2549     9     7         19   \n",
       "1        136        3  ...        905      1988  2631    17     3          7   \n",
       "2        145        5  ...       1263      1716  2603    11     2          9   \n",
       "3        131        6  ...       1216      1786  2769    16     8         11   \n",
       "4        141        2  ...       1208      1212  1411     8     2         15   \n",
       "\n",
       "   three_g  touch_screen  wifi  price_range  \n",
       "0        0             0     1            1  \n",
       "1        1             1     0            2  \n",
       "2        1             1     0            2  \n",
       "3        1             0     0            2  \n",
       "4        1             1     0            1  \n",
       "\n",
       "[5 rows x 21 columns]"
      ]
     },
     "execution_count": 3,
     "metadata": {},
     "output_type": "execute_result"
    }
   ],
   "source": [
    "df_train.head()"
   ]
  },
  {
   "cell_type": "code",
   "execution_count": 4,
   "id": "044f2737",
   "metadata": {
    "execution": {
     "iopub.execute_input": "2022-02-07T12:44:24.481701Z",
     "iopub.status.busy": "2022-02-07T12:44:24.480994Z",
     "iopub.status.idle": "2022-02-07T12:44:24.484809Z",
     "shell.execute_reply": "2022-02-07T12:44:24.484289Z",
     "shell.execute_reply.started": "2022-02-07T12:12:53.795326Z"
    },
    "papermill": {
     "duration": 0.031038,
     "end_time": "2022-02-07T12:44:24.485027",
     "exception": false,
     "start_time": "2022-02-07T12:44:24.453989",
     "status": "completed"
    },
    "tags": []
   },
   "outputs": [
    {
     "data": {
      "text/plain": [
       "array([1, 2, 3, 0])"
      ]
     },
     "execution_count": 4,
     "metadata": {},
     "output_type": "execute_result"
    }
   ],
   "source": [
    "df_train.price_range.unique()"
   ]
  },
  {
   "cell_type": "code",
   "execution_count": 5,
   "id": "2da0c0cc",
   "metadata": {
    "execution": {
     "iopub.execute_input": "2022-02-07T12:44:24.519630Z",
     "iopub.status.busy": "2022-02-07T12:44:24.518963Z",
     "iopub.status.idle": "2022-02-07T12:44:24.525710Z",
     "shell.execute_reply": "2022-02-07T12:44:24.526232Z",
     "shell.execute_reply.started": "2022-02-07T12:12:55.794687Z"
    },
    "papermill": {
     "duration": 0.025538,
     "end_time": "2022-02-07T12:44:24.526424",
     "exception": false,
     "start_time": "2022-02-07T12:44:24.500886",
     "status": "completed"
    },
    "tags": []
   },
   "outputs": [
    {
     "data": {
      "text/plain": [
       "battery_power      int64\n",
       "blue               int64\n",
       "clock_speed      float64\n",
       "dual_sim           int64\n",
       "fc                 int64\n",
       "four_g             int64\n",
       "int_memory         int64\n",
       "m_dep            float64\n",
       "mobile_wt          int64\n",
       "n_cores            int64\n",
       "pc                 int64\n",
       "px_height          int64\n",
       "px_width           int64\n",
       "ram                int64\n",
       "sc_h               int64\n",
       "sc_w               int64\n",
       "talk_time          int64\n",
       "three_g            int64\n",
       "touch_screen       int64\n",
       "wifi               int64\n",
       "price_range        int64\n",
       "dtype: object"
      ]
     },
     "execution_count": 5,
     "metadata": {},
     "output_type": "execute_result"
    }
   ],
   "source": [
    "df_train.dtypes"
   ]
  },
  {
   "cell_type": "code",
   "execution_count": 6,
   "id": "d3868efd",
   "metadata": {
    "execution": {
     "iopub.execute_input": "2022-02-07T12:44:24.561174Z",
     "iopub.status.busy": "2022-02-07T12:44:24.560432Z",
     "iopub.status.idle": "2022-02-07T12:44:24.570526Z",
     "shell.execute_reply": "2022-02-07T12:44:24.571034Z",
     "shell.execute_reply.started": "2022-02-07T12:24:11.343905Z"
    },
    "papermill": {
     "duration": 0.02922,
     "end_time": "2022-02-07T12:44:24.571242",
     "exception": false,
     "start_time": "2022-02-07T12:44:24.542022",
     "status": "completed"
    },
    "tags": []
   },
   "outputs": [],
   "source": [
    "def prepare_df(df):\n",
    "    target = df.iloc[:, -1]\n",
    "    train  = df.iloc[:, :-1]\n",
    "    return train, target\n",
    "\n",
    "def norm(x):\n",
    "    return ( (x - x.mean()) / x.std() )\n",
    "\n",
    "def plot_diff(y_true, y_pred, title=''):\n",
    "    plt.scatter(y_true, y_pred)\n",
    "    plt.title(title)\n",
    "    plt.xlabel('True Values')\n",
    "    plt.ylabel('Predictions')\n",
    "    plt.axis('equal')\n",
    "    plt.axis('square')\n",
    "    plt.xlim(plt.xlim())\n",
    "    plt.ylim(plt.ylim())\n",
    "    plt.plot([-100, 100], [-100, 100])\n",
    "    plt.show()\n",
    "\n",
    "def plot_metrics(metric_name, title, ylim=5):\n",
    "    plt.title(title)\n",
    "    plt.ylim(0, ylim)\n",
    "    plt.plot(history.history[metric_name], color='blue', label=metric_name)\n",
    "    plt.plot(history.history['val_' + metric_name], color='green', label='val_' + metric_name)\n",
    "    plt.show()"
   ]
  },
  {
   "cell_type": "code",
   "execution_count": 7,
   "id": "930123c8",
   "metadata": {
    "execution": {
     "iopub.execute_input": "2022-02-07T12:44:24.608475Z",
     "iopub.status.busy": "2022-02-07T12:44:24.605733Z",
     "iopub.status.idle": "2022-02-07T12:44:24.622883Z",
     "shell.execute_reply": "2022-02-07T12:44:24.623379Z",
     "shell.execute_reply.started": "2022-02-07T12:24:12.049165Z"
    },
    "papermill": {
     "duration": 0.036622,
     "end_time": "2022-02-07T12:44:24.623599",
     "exception": false,
     "start_time": "2022-02-07T12:44:24.586977",
     "status": "completed"
    },
    "tags": []
   },
   "outputs": [],
   "source": [
    "train, test               = train_test_split(df_train, test_size=.1)\n",
    "train_data, train_targets = prepare_df(train)\n",
    "test_data, test_targets   = prepare_df(test)\n",
    "\n",
    "train_inputs              = norm(train_data)\n",
    "test_inputs               = norm(test_data)"
   ]
  },
  {
   "cell_type": "markdown",
   "id": "aae52e78",
   "metadata": {
    "papermill": {
     "duration": 0.015595,
     "end_time": "2022-02-07T12:44:24.654627",
     "exception": false,
     "start_time": "2022-02-07T12:44:24.639032",
     "status": "completed"
    },
    "tags": []
   },
   "source": [
    "### functional model"
   ]
  },
  {
   "cell_type": "code",
   "execution_count": 8,
   "id": "7efdd32f",
   "metadata": {
    "execution": {
     "iopub.execute_input": "2022-02-07T12:44:24.689269Z",
     "iopub.status.busy": "2022-02-07T12:44:24.688599Z",
     "iopub.status.idle": "2022-02-07T12:44:24.692398Z",
     "shell.execute_reply": "2022-02-07T12:44:24.692990Z",
     "shell.execute_reply.started": "2022-02-07T12:13:14.368067Z"
    },
    "papermill": {
     "duration": 0.023122,
     "end_time": "2022-02-07T12:44:24.693180",
     "exception": false,
     "start_time": "2022-02-07T12:44:24.670058",
     "status": "completed"
    },
    "tags": []
   },
   "outputs": [],
   "source": [
    "from tensorflow.keras.layers import Input, Dense, Dropout\n",
    "from tensorflow.keras.models import Model"
   ]
  },
  {
   "cell_type": "code",
   "execution_count": 9,
   "id": "ba4c2d5e",
   "metadata": {
    "execution": {
     "iopub.execute_input": "2022-02-07T12:44:24.727500Z",
     "iopub.status.busy": "2022-02-07T12:44:24.726820Z",
     "iopub.status.idle": "2022-02-07T12:44:24.893436Z",
     "shell.execute_reply": "2022-02-07T12:44:24.894009Z",
     "shell.execute_reply.started": "2022-02-07T12:31:03.885172Z"
    },
    "papermill": {
     "duration": 0.18564,
     "end_time": "2022-02-07T12:44:24.894238",
     "exception": false,
     "start_time": "2022-02-07T12:44:24.708598",
     "status": "completed"
    },
    "tags": []
   },
   "outputs": [
    {
     "name": "stdout",
     "output_type": "stream",
     "text": [
      "Model: \"model\"\n",
      "_________________________________________________________________\n",
      "Layer (type)                 Output Shape              Param #   \n",
      "=================================================================\n",
      "input_1 (InputLayer)         [(None, 20)]              0         \n",
      "_________________________________________________________________\n",
      "dense (Dense)                (None, 150)               3150      \n",
      "_________________________________________________________________\n",
      "dropout (Dropout)            (None, 150)               0         \n",
      "_________________________________________________________________\n",
      "dense_1 (Dense)              (None, 150)               22650     \n",
      "_________________________________________________________________\n",
      "dropout_1 (Dropout)          (None, 150)               0         \n",
      "_________________________________________________________________\n",
      "dense_2 (Dense)              (None, 150)               22650     \n",
      "_________________________________________________________________\n",
      "dropout_2 (Dropout)          (None, 150)               0         \n",
      "_________________________________________________________________\n",
      "dense_3 (Dense)              (None, 150)               22650     \n",
      "_________________________________________________________________\n",
      "dense_4 (Dense)              (None, 4)                 604       \n",
      "=================================================================\n",
      "Total params: 71,704\n",
      "Trainable params: 71,704\n",
      "Non-trainable params: 0\n",
      "_________________________________________________________________\n"
     ]
    },
    {
     "name": "stderr",
     "output_type": "stream",
     "text": [
      "\n",
      "User settings:\n",
      "\n",
      "   KMP_AFFINITY=granularity=fine,noverbose,compact,1,0\n",
      "   KMP_BLOCKTIME=0\n",
      "   KMP_DUPLICATE_LIB_OK=True\n",
      "   KMP_INIT_AT_FORK=FALSE\n",
      "   KMP_SETTINGS=1\n",
      "   KMP_WARNINGS=0\n",
      "\n",
      "Effective settings:\n",
      "\n",
      "   KMP_ABORT_DELAY=0\n",
      "   KMP_ADAPTIVE_LOCK_PROPS='1,1024'\n",
      "   KMP_ALIGN_ALLOC=64\n",
      "   KMP_ALL_THREADPRIVATE=128\n",
      "   KMP_ATOMIC_MODE=2\n",
      "   KMP_BLOCKTIME=0\n",
      "   KMP_CPUINFO_FILE: value is not defined\n",
      "   KMP_DETERMINISTIC_REDUCTION=false\n",
      "   KMP_DEVICE_THREAD_LIMIT=2147483647\n",
      "   KMP_DISP_NUM_BUFFERS=7\n",
      "   KMP_DUPLICATE_LIB_OK=true\n",
      "   KMP_ENABLE_TASK_THROTTLING=true\n",
      "   KMP_FORCE_REDUCTION: value is not defined\n",
      "   KMP_FOREIGN_THREADS_THREADPRIVATE=true\n",
      "   KMP_FORKJOIN_BARRIER='2,2'\n",
      "   KMP_FORKJOIN_BARRIER_PATTERN='hyper,hyper'\n",
      "   KMP_GTID_MODE=3\n",
      "   KMP_HANDLE_SIGNALS=false\n",
      "   KMP_HOT_TEAMS_MAX_LEVEL=1\n",
      "   KMP_HOT_TEAMS_MODE=0\n",
      "   KMP_INIT_AT_FORK=true\n",
      "   KMP_LIBRARY=throughput\n",
      "   KMP_LOCK_KIND=queuing\n",
      "   KMP_MALLOC_POOL_INCR=1M\n",
      "   KMP_NUM_LOCKS_IN_BLOCK=1\n",
      "   KMP_PLAIN_BARRIER='2,2'\n",
      "   KMP_PLAIN_BARRIER_PATTERN='hyper,hyper'\n",
      "   KMP_REDUCTION_BARRIER='1,1'\n",
      "   KMP_REDUCTION_BARRIER_PATTERN='hyper,hyper'\n",
      "   KMP_SCHEDULE='static,balanced;guided,iterative'\n",
      "   KMP_SETTINGS=true\n",
      "   KMP_SPIN_BACKOFF_PARAMS='4096,100'\n",
      "   KMP_STACKOFFSET=64\n",
      "   KMP_STACKPAD=0\n",
      "   KMP_STACKSIZE=8M\n",
      "   KMP_STORAGE_MAP=false\n",
      "   KMP_TASKING=2\n",
      "   KMP_TASKLOOP_MIN_TASKS=0\n",
      "   KMP_TASK_STEALING_CONSTRAINT=1\n",
      "   KMP_TEAMS_THREAD_LIMIT=4\n",
      "   KMP_TOPOLOGY_METHOD=all\n",
      "   KMP_USE_YIELD=1\n",
      "   KMP_VERSION=false\n",
      "   KMP_WARNINGS=false\n",
      "   OMP_AFFINITY_FORMAT='OMP: pid %P tid %i thread %n bound to OS proc set {%A}'\n",
      "   OMP_ALLOCATOR=omp_default_mem_alloc\n",
      "   OMP_CANCELLATION=false\n",
      "   OMP_DEFAULT_DEVICE=0\n",
      "   OMP_DISPLAY_AFFINITY=false\n",
      "   OMP_DISPLAY_ENV=false\n",
      "   OMP_DYNAMIC=false\n",
      "   OMP_MAX_ACTIVE_LEVELS=1\n",
      "   OMP_MAX_TASK_PRIORITY=0\n",
      "   OMP_NESTED: deprecated; max-active-levels-var=1\n",
      "   OMP_NUM_THREADS: value is not defined\n",
      "   OMP_PLACES: value is not defined\n",
      "   OMP_PROC_BIND='intel'\n",
      "   OMP_SCHEDULE='static'\n",
      "   OMP_STACKSIZE=8M\n",
      "   OMP_TARGET_OFFLOAD=DEFAULT\n",
      "   OMP_THREAD_LIMIT=2147483647\n",
      "   OMP_WAIT_POLICY=PASSIVE\n",
      "   KMP_AFFINITY='noverbose,warnings,respect,granularity=fine,compact,1,0'\n",
      "\n",
      "2022-02-07 12:44:24.782953: I tensorflow/core/common_runtime/process_util.cc:146] Creating new thread pool with default inter op setting: 2. Tune using inter_op_parallelism_threads for best performance.\n"
     ]
    }
   ],
   "source": [
    "units = 150\n",
    "drop  = .3\n",
    "input = Input(shape=(len(train_inputs.columns),))\n",
    "\n",
    "x = Dense(units, 'tanh')(input)\n",
    "x = Dropout(drop)(x)\n",
    "x = Dense(units, 'tanh')(x)\n",
    "x = Dropout(drop)(x)\n",
    "x = Dense(units, 'tanh')(x)\n",
    "x = Dropout(drop)(x)\n",
    "x = Dense(units, 'tanh')(x)\n",
    "\n",
    "output = Dense(4, 'softmax')(x)\n",
    "\n",
    "model = Model(inputs=input, outputs=output)\n",
    "model.summary()"
   ]
  },
  {
   "cell_type": "code",
   "execution_count": 10,
   "id": "35f8dc54",
   "metadata": {
    "execution": {
     "iopub.execute_input": "2022-02-07T12:44:24.942142Z",
     "iopub.status.busy": "2022-02-07T12:44:24.941083Z",
     "iopub.status.idle": "2022-02-07T12:44:35.289065Z",
     "shell.execute_reply": "2022-02-07T12:44:35.289569Z",
     "shell.execute_reply.started": "2022-02-07T12:31:13.503795Z"
    },
    "papermill": {
     "duration": 10.378524,
     "end_time": "2022-02-07T12:44:35.289754",
     "exception": false,
     "start_time": "2022-02-07T12:44:24.911230",
     "status": "completed"
    },
    "tags": []
   },
   "outputs": [
    {
     "name": "stderr",
     "output_type": "stream",
     "text": [
      "2022-02-07 12:44:25.052715: I tensorflow/compiler/mlir/mlir_graph_optimization_pass.cc:185] None of the MLIR Optimization Passes are enabled (registered 2)\n"
     ]
    },
    {
     "name": "stdout",
     "output_type": "stream",
     "text": [
      "Epoch 1/50\n",
      "29/29 [==============================] - 1s 15ms/step - loss: 0.9746 - accuracy: 0.5411 - val_loss: 0.6625 - val_accuracy: 0.6550\n",
      "Epoch 2/50\n",
      "29/29 [==============================] - 0s 6ms/step - loss: 0.6667 - accuracy: 0.6928 - val_loss: 0.4839 - val_accuracy: 0.8100\n",
      "Epoch 3/50\n",
      "29/29 [==============================] - 0s 6ms/step - loss: 0.5423 - accuracy: 0.7572 - val_loss: 0.3649 - val_accuracy: 0.8400\n",
      "Epoch 4/50\n",
      "29/29 [==============================] - 0s 9ms/step - loss: 0.4409 - accuracy: 0.8139 - val_loss: 0.3385 - val_accuracy: 0.8400\n",
      "Epoch 5/50\n",
      "29/29 [==============================] - 0s 6ms/step - loss: 0.3629 - accuracy: 0.8406 - val_loss: 0.2706 - val_accuracy: 0.8700\n",
      "Epoch 6/50\n",
      "29/29 [==============================] - 0s 6ms/step - loss: 0.3375 - accuracy: 0.8467 - val_loss: 0.3474 - val_accuracy: 0.8450\n",
      "Epoch 7/50\n",
      "29/29 [==============================] - 0s 6ms/step - loss: 0.3298 - accuracy: 0.8600 - val_loss: 0.2822 - val_accuracy: 0.8750\n",
      "Epoch 8/50\n",
      "29/29 [==============================] - 0s 6ms/step - loss: 0.2999 - accuracy: 0.8722 - val_loss: 0.3604 - val_accuracy: 0.8250\n",
      "Epoch 9/50\n",
      "29/29 [==============================] - 0s 6ms/step - loss: 0.2822 - accuracy: 0.8828 - val_loss: 0.3474 - val_accuracy: 0.8450\n",
      "Epoch 10/50\n",
      "29/29 [==============================] - 0s 6ms/step - loss: 0.2875 - accuracy: 0.8800 - val_loss: 0.3130 - val_accuracy: 0.8500\n",
      "Epoch 11/50\n",
      "29/29 [==============================] - 0s 6ms/step - loss: 0.2885 - accuracy: 0.8833 - val_loss: 0.3325 - val_accuracy: 0.8450\n",
      "Epoch 12/50\n",
      "29/29 [==============================] - 0s 6ms/step - loss: 0.2499 - accuracy: 0.8933 - val_loss: 0.2793 - val_accuracy: 0.8650\n",
      "Epoch 13/50\n",
      "29/29 [==============================] - 0s 6ms/step - loss: 0.2557 - accuracy: 0.9000 - val_loss: 0.2987 - val_accuracy: 0.8600\n",
      "Epoch 14/50\n",
      "29/29 [==============================] - 0s 7ms/step - loss: 0.2594 - accuracy: 0.8922 - val_loss: 0.2270 - val_accuracy: 0.8950\n",
      "Epoch 15/50\n",
      "29/29 [==============================] - 0s 7ms/step - loss: 0.2460 - accuracy: 0.8983 - val_loss: 0.2695 - val_accuracy: 0.8850\n",
      "Epoch 16/50\n",
      "29/29 [==============================] - 0s 7ms/step - loss: 0.2394 - accuracy: 0.9000 - val_loss: 0.3370 - val_accuracy: 0.8550\n",
      "Epoch 17/50\n",
      "29/29 [==============================] - 0s 7ms/step - loss: 0.2382 - accuracy: 0.8994 - val_loss: 0.2524 - val_accuracy: 0.8700\n",
      "Epoch 18/50\n",
      "29/29 [==============================] - 0s 7ms/step - loss: 0.2473 - accuracy: 0.8961 - val_loss: 0.2902 - val_accuracy: 0.8700\n",
      "Epoch 19/50\n",
      "29/29 [==============================] - 0s 6ms/step - loss: 0.2173 - accuracy: 0.9050 - val_loss: 0.3441 - val_accuracy: 0.8500\n",
      "Epoch 20/50\n",
      "29/29 [==============================] - 0s 6ms/step - loss: 0.2130 - accuracy: 0.9156 - val_loss: 0.2201 - val_accuracy: 0.8950\n",
      "Epoch 21/50\n",
      "29/29 [==============================] - 0s 6ms/step - loss: 0.2158 - accuracy: 0.9122 - val_loss: 0.2182 - val_accuracy: 0.9100\n",
      "Epoch 22/50\n",
      "29/29 [==============================] - 0s 6ms/step - loss: 0.2164 - accuracy: 0.9144 - val_loss: 0.3083 - val_accuracy: 0.8800\n",
      "Epoch 23/50\n",
      "29/29 [==============================] - 0s 6ms/step - loss: 0.2326 - accuracy: 0.8917 - val_loss: 0.2552 - val_accuracy: 0.8800\n",
      "Epoch 24/50\n",
      "29/29 [==============================] - 0s 6ms/step - loss: 0.1977 - accuracy: 0.9161 - val_loss: 0.3484 - val_accuracy: 0.8750\n",
      "Epoch 25/50\n",
      "29/29 [==============================] - 0s 6ms/step - loss: 0.2090 - accuracy: 0.9117 - val_loss: 0.3062 - val_accuracy: 0.8650\n",
      "Epoch 26/50\n",
      "29/29 [==============================] - 0s 6ms/step - loss: 0.2110 - accuracy: 0.9150 - val_loss: 0.4097 - val_accuracy: 0.8250\n",
      "Epoch 27/50\n",
      "29/29 [==============================] - 0s 6ms/step - loss: 0.1938 - accuracy: 0.9161 - val_loss: 0.1942 - val_accuracy: 0.9100\n",
      "Epoch 28/50\n",
      "29/29 [==============================] - 0s 6ms/step - loss: 0.2242 - accuracy: 0.9056 - val_loss: 0.3422 - val_accuracy: 0.8650\n",
      "Epoch 29/50\n",
      "29/29 [==============================] - 0s 6ms/step - loss: 0.1834 - accuracy: 0.9156 - val_loss: 0.2997 - val_accuracy: 0.8700\n",
      "Epoch 30/50\n",
      "29/29 [==============================] - 0s 6ms/step - loss: 0.2006 - accuracy: 0.9150 - val_loss: 0.2572 - val_accuracy: 0.9000\n",
      "Epoch 31/50\n",
      "29/29 [==============================] - 0s 7ms/step - loss: 0.2039 - accuracy: 0.9117 - val_loss: 0.3456 - val_accuracy: 0.8450\n",
      "Epoch 32/50\n",
      "29/29 [==============================] - 0s 7ms/step - loss: 0.1790 - accuracy: 0.9256 - val_loss: 0.3285 - val_accuracy: 0.8800\n",
      "Epoch 33/50\n",
      "29/29 [==============================] - 0s 7ms/step - loss: 0.1902 - accuracy: 0.9206 - val_loss: 0.2845 - val_accuracy: 0.8950\n",
      "Epoch 34/50\n",
      "29/29 [==============================] - 0s 7ms/step - loss: 0.1846 - accuracy: 0.9217 - val_loss: 0.4101 - val_accuracy: 0.8500\n",
      "Epoch 35/50\n",
      "29/29 [==============================] - 0s 7ms/step - loss: 0.1771 - accuracy: 0.9294 - val_loss: 0.3052 - val_accuracy: 0.8750\n",
      "Epoch 36/50\n",
      "29/29 [==============================] - 0s 7ms/step - loss: 0.1635 - accuracy: 0.9311 - val_loss: 0.3047 - val_accuracy: 0.8900\n",
      "Epoch 37/50\n",
      "29/29 [==============================] - 0s 7ms/step - loss: 0.1626 - accuracy: 0.9367 - val_loss: 0.2545 - val_accuracy: 0.8900\n",
      "Epoch 38/50\n",
      "29/29 [==============================] - 0s 7ms/step - loss: 0.1697 - accuracy: 0.9350 - val_loss: 0.2683 - val_accuracy: 0.8850\n",
      "Epoch 39/50\n",
      "29/29 [==============================] - 0s 7ms/step - loss: 0.1475 - accuracy: 0.9383 - val_loss: 0.2218 - val_accuracy: 0.9050\n",
      "Epoch 40/50\n",
      "29/29 [==============================] - 0s 7ms/step - loss: 0.1735 - accuracy: 0.9267 - val_loss: 0.3615 - val_accuracy: 0.8650\n",
      "Epoch 41/50\n",
      "29/29 [==============================] - 0s 6ms/step - loss: 0.1670 - accuracy: 0.9311 - val_loss: 0.4033 - val_accuracy: 0.8700\n",
      "Epoch 42/50\n",
      "29/29 [==============================] - 0s 6ms/step - loss: 0.1663 - accuracy: 0.9256 - val_loss: 0.3457 - val_accuracy: 0.8750\n",
      "Epoch 43/50\n",
      "29/29 [==============================] - 0s 6ms/step - loss: 0.1368 - accuracy: 0.9422 - val_loss: 0.2845 - val_accuracy: 0.9000\n",
      "Epoch 44/50\n",
      "29/29 [==============================] - 0s 6ms/step - loss: 0.1740 - accuracy: 0.9322 - val_loss: 0.2282 - val_accuracy: 0.9150\n",
      "Epoch 45/50\n",
      "29/29 [==============================] - 0s 6ms/step - loss: 0.1652 - accuracy: 0.9267 - val_loss: 0.3583 - val_accuracy: 0.8600\n",
      "Epoch 46/50\n",
      "29/29 [==============================] - 0s 6ms/step - loss: 0.1681 - accuracy: 0.9300 - val_loss: 0.4433 - val_accuracy: 0.8600\n",
      "Epoch 47/50\n",
      "29/29 [==============================] - 0s 6ms/step - loss: 0.1496 - accuracy: 0.9394 - val_loss: 0.3069 - val_accuracy: 0.8750\n",
      "Epoch 48/50\n",
      "29/29 [==============================] - 0s 6ms/step - loss: 0.1534 - accuracy: 0.9372 - val_loss: 0.2661 - val_accuracy: 0.8950\n",
      "Epoch 49/50\n",
      "29/29 [==============================] - 0s 6ms/step - loss: 0.1490 - accuracy: 0.9378 - val_loss: 0.2721 - val_accuracy: 0.9100\n",
      "Epoch 50/50\n",
      "29/29 [==============================] - 0s 6ms/step - loss: 0.1501 - accuracy: 0.9383 - val_loss: 0.2928 - val_accuracy: 0.8900\n"
     ]
    },
    {
     "data": {
      "text/plain": [
       "<keras.callbacks.History at 0x7fa0c7d89990>"
      ]
     },
     "execution_count": 10,
     "metadata": {},
     "output_type": "execute_result"
    }
   ],
   "source": [
    "model.compile(loss='sparse_categorical_crossentropy', optimizer='adam', metrics=['accuracy'])\n",
    "model.fit(train_inputs, train_targets,\n",
    "          batch_size=64,\n",
    "          epochs=50,\n",
    "          #callbacks=[early_stopping],\n",
    "          validation_data=(test_inputs, test_targets))"
   ]
  },
  {
   "cell_type": "code",
   "execution_count": 11,
   "id": "cb38b947",
   "metadata": {
    "execution": {
     "iopub.execute_input": "2022-02-07T12:44:35.465808Z",
     "iopub.status.busy": "2022-02-07T12:44:35.465183Z",
     "iopub.status.idle": "2022-02-07T12:44:35.467458Z",
     "shell.execute_reply": "2022-02-07T12:44:35.468048Z",
     "shell.execute_reply.started": "2022-02-07T12:33:48.395127Z"
    },
    "papermill": {
     "duration": 0.092571,
     "end_time": "2022-02-07T12:44:35.468233",
     "exception": false,
     "start_time": "2022-02-07T12:44:35.375662",
     "status": "completed"
    },
    "tags": []
   },
   "outputs": [],
   "source": [
    "df_test.drop('id', inplace=True, axis=1)"
   ]
  },
  {
   "cell_type": "code",
   "execution_count": 12,
   "id": "bcaa0771",
   "metadata": {
    "execution": {
     "iopub.execute_input": "2022-02-07T12:44:35.637287Z",
     "iopub.status.busy": "2022-02-07T12:44:35.636634Z",
     "iopub.status.idle": "2022-02-07T12:44:35.645317Z",
     "shell.execute_reply": "2022-02-07T12:44:35.645875Z",
     "shell.execute_reply.started": "2022-02-07T12:35:55.509066Z"
    },
    "papermill": {
     "duration": 0.094678,
     "end_time": "2022-02-07T12:44:35.646066",
     "exception": false,
     "start_time": "2022-02-07T12:44:35.551388",
     "status": "completed"
    },
    "tags": []
   },
   "outputs": [],
   "source": [
    "pre_inputs = norm(df_test)"
   ]
  },
  {
   "cell_type": "code",
   "execution_count": 13,
   "id": "dda7a801",
   "metadata": {
    "execution": {
     "iopub.execute_input": "2022-02-07T12:44:35.817182Z",
     "iopub.status.busy": "2022-02-07T12:44:35.816244Z",
     "iopub.status.idle": "2022-02-07T12:44:36.040522Z",
     "shell.execute_reply": "2022-02-07T12:44:36.041237Z",
     "shell.execute_reply.started": "2022-02-07T12:38:32.103329Z"
    },
    "papermill": {
     "duration": 0.311497,
     "end_time": "2022-02-07T12:44:36.041466",
     "exception": false,
     "start_time": "2022-02-07T12:44:35.729969",
     "status": "completed"
    },
    "tags": []
   },
   "outputs": [],
   "source": [
    "prediction = np.argmax(model.predict(pre_inputs), axis=1)"
   ]
  },
  {
   "cell_type": "code",
   "execution_count": 14,
   "id": "f08aafd9",
   "metadata": {
    "execution": {
     "iopub.execute_input": "2022-02-07T12:44:36.213939Z",
     "iopub.status.busy": "2022-02-07T12:44:36.213062Z",
     "iopub.status.idle": "2022-02-07T12:44:36.221019Z",
     "shell.execute_reply": "2022-02-07T12:44:36.221526Z",
     "shell.execute_reply.started": "2022-02-07T12:43:49.396239Z"
    },
    "papermill": {
     "duration": 0.097517,
     "end_time": "2022-02-07T12:44:36.221750",
     "exception": false,
     "start_time": "2022-02-07T12:44:36.124233",
     "status": "completed"
    },
    "tags": []
   },
   "outputs": [
    {
     "data": {
      "text/plain": [
       "array([3, 3, 3, 3, 1, 3, 3, 1, 3, 0, 3, 3, 0, 0, 2, 0, 2, 1, 3, 2, 1, 3,\n",
       "       1, 1, 3, 0, 2, 0, 3, 0, 2, 0, 3, 0, 1, 1, 3, 1, 2, 1, 1, 2, 0, 0,\n",
       "       0, 1, 0, 3, 1, 2, 1, 0, 3, 0, 3, 0, 3, 1, 0, 3, 3, 3, 0, 1, 0, 1,\n",
       "       2, 3, 1, 2, 1, 2, 2, 3, 3, 0, 2, 0, 1, 3, 0, 3, 3, 0, 3, 0, 3, 1,\n",
       "       3, 0, 1, 2, 2, 1, 2, 2, 0, 1, 1, 3, 1, 0, 0, 3, 0, 2, 0, 1, 2, 3,\n",
       "       3, 3, 1, 3, 3, 3, 3, 2, 3, 0, 0, 3, 2, 1, 2, 0, 3, 2, 3, 2, 0, 2,\n",
       "       1, 1, 3, 1, 1, 0, 3, 2, 1, 2, 1, 3, 2, 3, 3, 3, 2, 3, 2, 3, 1, 0,\n",
       "       3, 2, 3, 3, 3, 3, 3, 2, 3, 3, 3, 3, 1, 0, 3, 0, 0, 0, 2, 0, 0, 1,\n",
       "       0, 0, 1, 2, 1, 0, 0, 1, 1, 2, 2, 1, 0, 0, 0, 1, 0, 3, 1, 0, 2, 2,\n",
       "       3, 3, 1, 1, 3, 3, 3, 2, 2, 1, 0, 0, 1, 3, 0, 3, 3, 3, 0, 2, 0, 3,\n",
       "       2, 3, 3, 1, 0, 1, 0, 3, 0, 1, 0, 2, 2, 1, 3, 1, 3, 0, 3, 1, 2, 0,\n",
       "       0, 2, 1, 3, 3, 3, 1, 1, 3, 0, 0, 2, 3, 3, 1, 3, 1, 1, 3, 2, 1, 2,\n",
       "       3, 3, 3, 1, 0, 1, 2, 3, 1, 1, 3, 2, 0, 3, 0, 0, 3, 0, 0, 3, 2, 3,\n",
       "       3, 2, 1, 3, 3, 2, 3, 1, 2, 1, 2, 0, 2, 3, 1, 0, 0, 3, 0, 3, 0, 1,\n",
       "       2, 0, 2, 3, 1, 3, 2, 2, 0, 2, 0, 0, 0, 1, 3, 2, 0, 0, 0, 3, 2, 0,\n",
       "       2, 3, 1, 2, 2, 2, 3, 1, 3, 3, 1, 2, 2, 3, 3, 0, 3, 0, 3, 1, 3, 1,\n",
       "       3, 3, 0, 1, 0, 3, 1, 3, 2, 3, 0, 0, 0, 0, 2, 0, 0, 2, 2, 1, 2, 2,\n",
       "       2, 0, 1, 0, 0, 3, 2, 0, 3, 1, 2, 2, 1, 2, 3, 0, 1, 2, 2, 1, 2, 0,\n",
       "       0, 1, 0, 3, 2, 0, 0, 1, 0, 0, 1, 1, 0, 0, 0, 3, 2, 3, 2, 3, 0, 3,\n",
       "       0, 3, 0, 1, 1, 0, 2, 0, 3, 2, 3, 3, 1, 3, 1, 3, 1, 3, 2, 0, 1, 2,\n",
       "       1, 1, 0, 0, 0, 1, 2, 1, 0, 3, 2, 0, 2, 3, 0, 0, 3, 1, 2, 0, 2, 3,\n",
       "       3, 0, 3, 0, 2, 3, 3, 3, 0, 2, 0, 2, 3, 0, 1, 1, 0, 0, 1, 1, 1, 3,\n",
       "       3, 3, 2, 3, 1, 2, 2, 3, 3, 3, 2, 0, 2, 1, 2, 3, 1, 0, 2, 2, 0, 0,\n",
       "       0, 3, 1, 0, 2, 2, 2, 0, 3, 0, 2, 2, 0, 3, 0, 2, 3, 0, 1, 1, 3, 3,\n",
       "       2, 1, 1, 3, 2, 0, 3, 0, 2, 0, 3, 3, 1, 3, 2, 2, 3, 0, 1, 2, 3, 1,\n",
       "       3, 2, 3, 1, 1, 0, 0, 3, 1, 0, 3, 2, 3, 3, 0, 3, 3, 3, 2, 3, 3, 1,\n",
       "       2, 0, 2, 3, 3, 0, 0, 1, 1, 2, 2, 2, 0, 0, 2, 2, 3, 2, 0, 2, 1, 3,\n",
       "       3, 0, 1, 3, 0, 2, 0, 1, 0, 0, 2, 1, 0, 1, 1, 2, 2, 0, 2, 3, 1, 0,\n",
       "       3, 0, 0, 3, 2, 0, 0, 0, 0, 0, 3, 0, 3, 0, 3, 2, 1, 3, 3, 0, 1, 1,\n",
       "       3, 2, 3, 2, 0, 3, 0, 2, 0, 2, 0, 0, 1, 1, 1, 2, 1, 3, 1, 3, 2, 2,\n",
       "       1, 3, 2, 0, 2, 2, 0, 3, 3, 0, 2, 1, 1, 2, 0, 3, 2, 0, 3, 2, 3, 0,\n",
       "       0, 3, 0, 2, 2, 3, 2, 2, 2, 3, 1, 2, 3, 0, 1, 0, 1, 2, 1, 0, 0, 1,\n",
       "       0, 0, 3, 0, 1, 2, 0, 0, 0, 1, 3, 0, 3, 2, 3, 0, 0, 1, 2, 2, 1, 0,\n",
       "       1, 2, 0, 1, 1, 0, 1, 3, 3, 0, 3, 1, 1, 3, 0, 1, 0, 2, 2, 0, 3, 1,\n",
       "       0, 3, 0, 1, 0, 3, 3, 3, 2, 3, 0, 3, 2, 0, 0, 0, 3, 3, 2, 0, 2, 1,\n",
       "       3, 0, 0, 2, 2, 0, 3, 1, 2, 1, 1, 1, 3, 1, 1, 1, 2, 1, 0, 2, 2, 0,\n",
       "       3, 0, 0, 0, 0, 2, 3, 3, 3, 0, 1, 2, 1, 1, 0, 0, 2, 1, 0, 2, 0, 3,\n",
       "       2, 2, 1, 2, 0, 2, 1, 3, 0, 0, 3, 2, 3, 0, 0, 2, 3, 3, 0, 3, 2, 1,\n",
       "       0, 0, 3, 3, 0, 3, 0, 0, 0, 2, 2, 1, 2, 0, 3, 3, 1, 2, 3, 3, 0, 1,\n",
       "       1, 2, 1, 2, 2, 0, 1, 3, 1, 1, 3, 0, 2, 3, 2, 1, 1, 1, 3, 3, 0, 2,\n",
       "       3, 0, 2, 3, 3, 2, 2, 3, 2, 0, 1, 2, 1, 2, 1, 1, 2, 2, 2, 1, 2, 1,\n",
       "       0, 1, 3, 1, 0, 1, 2, 3, 1, 0, 0, 3, 2, 2, 3, 0, 3, 3, 2, 1, 3, 0,\n",
       "       1, 3, 1, 1, 0, 1, 3, 2, 0, 3, 0, 2, 3, 0, 3, 1, 3, 3, 1, 0, 2, 3,\n",
       "       1, 0, 2, 1, 2, 1, 3, 0, 2, 3, 0, 2, 3, 2, 3, 0, 2, 1, 1, 2, 2, 3,\n",
       "       3, 0, 2, 1, 2, 1, 3, 0, 0, 3, 0, 1, 0, 0, 3, 3, 2, 0, 0, 0, 0, 3,\n",
       "       2, 3, 3, 0, 0, 2, 1, 0, 2, 2])"
      ]
     },
     "execution_count": 14,
     "metadata": {},
     "output_type": "execute_result"
    }
   ],
   "source": [
    "prediction"
   ]
  },
  {
   "cell_type": "code",
   "execution_count": null,
   "id": "48a3c78b",
   "metadata": {
    "papermill": {
     "duration": 0.082696,
     "end_time": "2022-02-07T12:44:36.389194",
     "exception": false,
     "start_time": "2022-02-07T12:44:36.306498",
     "status": "completed"
    },
    "tags": []
   },
   "outputs": [],
   "source": []
  }
 ],
 "metadata": {
  "kernelspec": {
   "display_name": "Python 3",
   "language": "python",
   "name": "python3"
  },
  "language_info": {
   "codemirror_mode": {
    "name": "ipython",
    "version": 3
   },
   "file_extension": ".py",
   "mimetype": "text/x-python",
   "name": "python",
   "nbconvert_exporter": "python",
   "pygments_lexer": "ipython3",
   "version": "3.9.7"
  },
  "papermill": {
   "default_parameters": {},
   "duration": 33.793635,
   "end_time": "2022-02-07T12:44:39.205885",
   "environment_variables": {},
   "exception": null,
   "input_path": "__notebook__.ipynb",
   "output_path": "__notebook__.ipynb",
   "parameters": {},
   "start_time": "2022-02-07T12:44:05.412250",
   "version": "2.3.3"
  }
 },
 "nbformat": 4,
 "nbformat_minor": 5
}
